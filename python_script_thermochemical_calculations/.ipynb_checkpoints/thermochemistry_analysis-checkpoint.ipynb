{
 "cells": [
  {
   "cell_type": "code",
   "execution_count": null,
   "id": "5e3effe5",
   "metadata": {},
   "outputs": [],
   "source": [
    "import numpy as np\n",
    "import scipy as sci\n",
    "import os\n",
    "import pandas as pd\n",
    "import shutil\n",
    "import copy\n",
    "\n",
    "import matplotlib.pyplot as plt\n",
    "from rdkit.Chem import AllChem\n",
    "from rdkit.Chem import PyMol\n",
    "from rdkit import Chem\n",
    "from rdkit.Chem.rdmolfiles import CanonicalRankAtomsInFragment\n",
    "from rdkit.Chem.rdchem import *\n",
    "from rdkit.Chem import Draw\n",
    "import networkx as nx\n",
    "\n",
    "import csv\n",
    "from rdkit.Chem.Descriptors import NumRadicalElectrons"
   ]
  },
  {
   "cell_type": "code",
   "execution_count": null,
   "id": "1736b83f",
   "metadata": {},
   "outputs": [],
   "source": [
    "#import tools, library of custom functions\n",
    "\n",
    "import sys\n",
    "sys.path.append(os.getcwd()+'/custom_functions')\n",
    "\n",
    "from thermo_parameters import *"
   ]
  },
  {
   "cell_type": "code",
   "execution_count": null,
   "id": "f2bd2ee4",
   "metadata": {},
   "outputs": [],
   "source": [
    "#temperature in celcius\n",
    "T_C =  42\n",
    "\n",
    "#specify parameters for thermochemistry calculations\n",
    "[N_A,k_B,T,h,kJmol_Ha] = [6.0221408e23,1.380649e-23, 273+T_C,6.626070E-34,2625.5] \n",
    "R_ig = 8.3144E-3"
   ]
  },
  {
   "cell_type": "code",
   "execution_count": null,
   "id": "06c9c8b6",
   "metadata": {
    "scrolled": true
   },
   "outputs": [],
   "source": [
    "#must update these paths to local directories\n",
    "\n",
    "#local path to reaction file\n",
    "rxn_file = '**UPDATE**/sample_calculation/benzene_frag_rxns.csv'\n",
    "\n",
    "#local path to datasets\n",
    "DFT_files_TS ='**UPDATE**/DFT_datasets/species_benzene.csv'\n",
    "DFT_files_geom = '**UPDATE**/DFT_datasets/TS_benzene.csv'\n",
    "\n",
    "#DFT outputs path\n",
    "DFT_out_path=\"**UPDATE**//DFT_datasets/output_files\"\n",
    "\n",
    "volume_out_path=\"**UPDATE**//repository/volume_outputs\""
   ]
  },
  {
   "cell_type": "code",
   "execution_count": null,
   "id": "b5d8508d",
   "metadata": {
    "scrolled": true
   },
   "outputs": [],
   "source": [
    "#build a dataframe with all of the DFT calculations imported\n",
    "df_1 = pd.read_csv(DFT_files_TS)\n",
    "df_2 = pd.read_csv(DFT_files_geom)\n",
    "df_DFT = pd.concat([df_2, df_1], ignore_index=True)\n",
    "\n",
    "#build a dataframe for each reaction step to store rate constants\n",
    "df_ks = pd.read_csv(rxn_file)\n",
    "df_ks = df_ks.fillna('')"
   ]
  },
  {
   "cell_type": "code",
   "execution_count": null,
   "id": "48eb1807",
   "metadata": {},
   "outputs": [],
   "source": [
    "#update paths to DFT outputs with local directory to DFT files\n",
    "df_DFT['path_l_geom'] = DFT_out_path + df_DFT['path_l_geom']\n",
    "df_DFT['path_l_freq'] = DFT_out_path + df_DFT['path_l_freq']"
   ]
  },
  {
   "cell_type": "code",
   "execution_count": null,
   "id": "6c749aac",
   "metadata": {},
   "outputs": [],
   "source": [
    "#collect all of the energies from QChem output files in paths listed in \"DFT_files_geom\"\n",
    "df = collect_E_empty(df_DFT)"
   ]
  },
  {
   "cell_type": "code",
   "execution_count": null,
   "id": "ad3b857e",
   "metadata": {
    "scrolled": true
   },
   "outputs": [],
   "source": [
    "#calculate thermodynamic properties for all of the species from frequency calculation outputs\n",
    "collect_freq_empty(df,T_C)"
   ]
  },
  {
   "cell_type": "code",
   "execution_count": null,
   "id": "9081b904",
   "metadata": {},
   "outputs": [],
   "source": [
    "#calculate entropy, enthalpy, and free energy for each species (stable or TS)\n",
    "S = df['S_trans'].to_numpy()+df['S_rot'].to_numpy()+df['S_vib'].to_numpy()+df['S_elec'].to_numpy()\n",
    "H = df['E'].to_numpy()+df['ZPE'].to_numpy()+df['H_trans'].to_numpy()+df['H_rot'].to_numpy()+df['H_vib'].to_numpy()\n",
    "G = H - T*S/1000 #E includes G_cds\n",
    "\n",
    "df['G']=G \n",
    "df['H_tot'] = H\n",
    "df['S_tot'] = S\n",
    "\n",
    "df.to_csv('thermo.csv')"
   ]
  },
  {
   "cell_type": "code",
   "execution_count": null,
   "id": "2a4f36e7",
   "metadata": {},
   "outputs": [],
   "source": [
    "#input reactions in CSV file\n",
    "df_rxns = pd.read_csv(rxn_file)\n",
    "df_rxns.head()\n",
    "df_rxns = df_rxns.fillna('')"
   ]
  },
  {
   "cell_type": "code",
   "execution_count": null,
   "id": "b85c0302",
   "metadata": {},
   "outputs": [],
   "source": [
    "#combine the reactants and products from rxn df into lists of reactants and products\n",
    "#these can be visualized with RDkit, or used as identifiers\n",
    "#format includes up to 3 reactants and 4 products\n",
    "R1 = df_rxns['R1']\n",
    "R2 = df_rxns['R2']\n",
    "R3 = df_rxns['R3']\n",
    "\n",
    "P1 = df_rxns['P1']\n",
    "P2 = df_rxns['P2']\n",
    "P3 = df_rxns['P3']\n",
    "P4 = df_rxns['P4']\n",
    "\n",
    "pairs = zip(R1, R2, R3)\n",
    "rcts = [[x, y ,z] for x, y, z in pairs]\n",
    "pairs = zip(P1, P2, P3, P4)\n",
    "pcts = [[x, y,z,zz] for x, y, z,zz in pairs]"
   ]
  },
  {
   "cell_type": "code",
   "execution_count": null,
   "id": "f68f9ebd",
   "metadata": {},
   "outputs": [],
   "source": [
    "#builds list of strings representing reaction steps. Used as identifiers for TSs in DFT_files_TS file\n",
    "s_rxns = rxn_strings(rcts,pcts)\n",
    "#collect list of smiles indices in DFT calculation database\n",
    "s_list = df['Smiles'].to_list()"
   ]
  },
  {
   "cell_type": "code",
   "execution_count": null,
   "id": "059b1ac1",
   "metadata": {},
   "outputs": [],
   "source": [
    "#Get the overall reaction enthalpy for each step in \"rxn_file\"\n",
    "\n",
    "get_H = 1\n",
    "\n",
    "if get_H == 1:\n",
    "\n",
    "    #get reaction enthalpies\n",
    "    n = 8\n",
    "    #collect list of smiles indices in calculation database\n",
    "    s_list = df['Smiles'].to_list()\n",
    "    Hs_f = list([])#r1,r2,p1,p2,TS\n",
    "    Hs_r = list([])\n",
    "    for i in range(len(rcts)):\n",
    "        #print(i)\n",
    "        Hs=list([0,0,0,0,0,0,0,0])\n",
    "        #collect the enthalpies of reactants, products, and TS by matching \n",
    "        #strings from rcts and pcts strings to database\n",
    "        Hs[0]=df['H_tot'][s_list.index(rcts[i][0])]\n",
    "        Hs[3]=df['H_tot'][s_list.index(pcts[i][0])]\n",
    "        Hs[7] =df['H_tot'][s_list.index(s_rxns[i])]\n",
    "\n",
    "        if rcts[i][1]!='':\n",
    "            Hs[1]=df['H_tot'][s_list.index(rcts[i][1])]\n",
    "        if rcts[i][2]!='':\n",
    "            Hs[2]=df['H_tot'][s_list.index(rcts[i][2])]\n",
    "\n",
    "        if pcts[i][1]!='':\n",
    "            Hs[4]=df['H_tot'][s_list.index(pcts[i][1])]  \n",
    "            #print(Hs[4])\n",
    "        if pcts[i][2]!='':\n",
    "            Hs[5]=df['H_tot'][s_list.index(pcts[i][2])]  \n",
    "        if pcts[i][3]!='':\n",
    "            Hs[6]=df['H_tot'][s_list.index(pcts[i][3])]  \n",
    "\n",
    "        Hs_f.append(Hs)\n",
    "        Hs = [Hs[3],Hs[4],Hs[5],Hs[6],Hs[0],Hs[1],Hs[2],Hs[7]]\n",
    "        Hs_r.append(Hs)  \n",
    "\n",
    "    df_Hs = pd.DataFrame(Hs_f, columns=['col_{}'.format(i) for i in range(1, n+1)])\n",
    "    df_Hs['rxns'] = s_rxns\n",
    "    df_Hs =  df_Hs.fillna(0)\n",
    "    \n",
    "    #forward enthalpy barrier\n",
    "    H_TS_f = df_Hs['col_8'].to_numpy()-(df_Hs['col_1'].to_numpy()+df_Hs['col_2'].to_numpy()+df_Hs['col_3'].to_numpy())\n",
    "    #reverse enthalpy barrier\n",
    "    H_TS_r = df_Hs['col_8'].to_numpy()-(df_Hs['col_4'].to_numpy()+df_Hs['col_5'].to_numpy()+\n",
    "                                       df_Hs['col_6'].to_numpy()+df_Hs['col_7'].to_numpy())\n",
    "    #reaction enthalpy\n",
    "    del_H = ((df_Hs['col_4'].to_numpy()+df_Hs['col_5'].to_numpy()+\n",
    "             df_Hs['col_6'].to_numpy()+df_Hs['col_7'].to_numpy()) \n",
    "             - (df_Hs['col_1'].to_numpy()+df_Hs['col_2'].to_numpy()+df_Hs['col_3'].to_numpy()))"
   ]
  },
  {
   "cell_type": "code",
   "execution_count": null,
   "id": "2ba581c8",
   "metadata": {},
   "outputs": [],
   "source": [
    "## add the free energy\n",
    "#initialize free energy for forward reaction\n",
    "Gs_f = list([])\n",
    "#reverse reaction\n",
    "Gs_r = list([])\n",
    "\n",
    "for i in range(len(rcts)):\n",
    "    #Gs of each reactant, product, and TS\n",
    "    Gs=list([0,0,0,0,0,0,0,0])\n",
    "    #collect the free energies of reactants, products, and TS by matching \n",
    "    #strings from rcts and pcts strings to database\n",
    "    \n",
    "    #first reactant\n",
    "    Gs[0]=df['G'][s_list.index(rcts[i][0])]\n",
    "    #first product\n",
    "    Gs[3]=df['G'][s_list.index(pcts[i][0])]\n",
    "    #TS\n",
    "    Gs[7] =df['G'][s_list.index(s_rxns[i])]\n",
    "    \n",
    "    #if statements to populate other reactants and products, if they exist\n",
    "    if rcts[i][1]!='':\n",
    "        Gs[1]=df['G'][s_list.index(rcts[i][1])]\n",
    "    if rcts[i][2]!='':\n",
    "        Gs[2]=df['G'][s_list.index(rcts[i][2])]\n",
    "        \n",
    "    if pcts[i][1]!='':\n",
    "        Gs[4]=df['G'][s_list.index(pcts[i][1])]  \n",
    "    if pcts[i][2]!='':\n",
    "        Gs[5]=df['G'][s_list.index(pcts[i][2])]  \n",
    "    if pcts[i][3]!='':\n",
    "        Gs[6]=df['G'][s_list.index(pcts[i][3])]  \n",
    "    \n",
    "    Gs_f.append(Gs)\n",
    "    \n",
    "    #rearrange Gs to get free energy of reverse reaction\n",
    "    Gs = [Gs[3],Gs[4],Gs[5],Gs[6],Gs[0],Gs[1],Gs[2],Gs[7]]\n",
    "    Gs_r.append(Gs)  \n",
    "    \n",
    "    \n",
    "\n",
    "df_Gs = pd.DataFrame(Gs_f, columns=['col_{}'.format(i) for i in range(1, n+1)])\n",
    "df_Gs['rxns'] = s_rxns\n",
    "df_Gs =  df_Gs.fillna(0)\n",
    "\n",
    "#forward free energy barrier\n",
    "G_TS_f = df_Gs['col_8'].to_numpy()-(df_Gs['col_1'].to_numpy()+df_Gs['col_2'].to_numpy()+df_Gs['col_3'].to_numpy())\n",
    "#reverse free energy barrier\n",
    "G_TS_r = df_Gs['col_8'].to_numpy()-(df_Gs['col_4'].to_numpy()+df_Gs['col_5'].to_numpy()+\n",
    "                                   df_Gs['col_6'].to_numpy()+df_Gs['col_7'].to_numpy())\n",
    "#free energy of reaction\n",
    "del_G = ((df_Gs['col_4'].to_numpy()+df_Gs['col_5'].to_numpy()+\n",
    "         df_Gs['col_6'].to_numpy()+df_Gs['col_7'].to_numpy()) - \n",
    "         (df_Gs['col_1'].to_numpy()+df_Gs['col_2'].to_numpy()+df_Gs['col_3'].to_numpy()))\n",
    "\n",
    "#forward rate constants\n",
    "ks_f = k_B*T/h*np.exp(-G_TS_f/R_ig/T)\n",
    "ks_f0 = k_B*T/h*np.exp(-G_TS_f/R_ig/T)\n",
    "#reverse rate constants\n",
    "ks_r = k_B*T/h*np.exp(-G_TS_r/R_ig/T)"
   ]
  },
  {
   "cell_type": "code",
   "execution_count": null,
   "id": "7d402f49",
   "metadata": {},
   "outputs": [],
   "source": [
    "#calculate tunneling corrections\n",
    "#w_imag, alpha, kappa_\n",
    "cm2Hz = 2.99793e10\n",
    "#collect imaginary modes\n",
    "f_im_list = list([])\n",
    "paths_TS = list([])\n",
    "\n",
    "for i in range(len(rcts)):    \n",
    "    f_im_list.append(df['f_imag'][s_list.index(s_rxns[i])])\n",
    "    paths_TS.append(df['path_l_freq'][s_list.index(s_rxns[i])])\n",
    "    \n",
    "#df['f_imag']\n",
    "alpha = -1*h*np.array(f_im_list)*cm2Hz/2/np.pi/k_B/T\n",
    "kappa_QM = alpha/2/(np.sin(alpha/2))\n",
    "df_tun = pd.DataFrame({'f_im':f_im_list,\n",
    "                       'alpha_0':alpha,\n",
    "                      'kappa':kappa_QM,\n",
    "                      'path':paths_TS})\n",
    "df_tun.to_csv('tun.csv')"
   ]
  },
  {
   "cell_type": "code",
   "execution_count": null,
   "id": "b0525f5c",
   "metadata": {},
   "outputs": [],
   "source": [
    "#calculate rate constants from smolukowski equation\n",
    "#import calculated van der waals radii\n",
    "df_vol = pd.read_csv(volume_out_path+\"/species_vols.csv\")\n",
    "spec_vol_strings = df_vol['Smiles'].to_list()\n",
    "spec_radii = df_vol['radii'].to_list()\n",
    "\n",
    "#vicosities from NIST https://webbook.nist.gov/cgi/fluid.cgi?ID=C7732185&Action=Page\n",
    "# viscosity in Pa s\n",
    "if T_C == 25:\n",
    "    visc = 0.00089002\n",
    "elif T_C == 42:\n",
    "    visc = 0.00062892\n",
    "elif T_C == 52:\n",
    "    visc = 0.00052866\n",
    "    \n",
    "#calculate k_smol with k_smol = 2*k_B*T/3/visc*(R_A + R_B)**2 / R_A*R_B\n",
    "k_Ds = list([])\n",
    "for i in range(len(rcts)):\n",
    "    if len(rcts[i])==3:\n",
    "        str_find = rcts[i][0]\n",
    "        index = spec_vol_strings.index(str_find) if str_find in spec_vol_strings else -1\n",
    "        rad_A = spec_radii[index]\n",
    "        \n",
    "        str_find = rcts[i][1]\n",
    "        index = spec_vol_strings.index(str_find) if str_find in spec_vol_strings else -1\n",
    "        rad_B = spec_radii[index]\n",
    "\n",
    "        k_D = 2*k_B*T/3/visc*(rad_A+rad_B)**2/(rad_A*rad_B)*N_A*1000 # go from m3/s/event to L/mole/s with N_A*1000\n",
    "        k_Ds.append(k_D)\n"
   ]
  },
  {
   "cell_type": "code",
   "execution_count": null,
   "id": "00f5651f",
   "metadata": {},
   "outputs": [],
   "source": [
    "#calculate forward rate constants accounting for diffusion with a series of resistors analogy\n",
    "for i in range(len(ks_f)):\n",
    "    if R2[i] != '':\n",
    "        k_inv = 1/ks_f[i]+1/k_Ds[i]\n",
    "        ks_f[i] = 1/k_inv\n",
    "\n",
    "for i in range(len(ks_r)):\n",
    "    if P2[i] != '':\n",
    "        k_inv = 1/ks_r[i]+1/k_Ds[i]\n",
    "        ks_r[i] = 1/k_inv\n",
    "            \n",
    "        \n",
    "ks = np.append(ks_f,ks_r)\n",
    "ks_r[ks_r== np.inf] = 0"
   ]
  },
  {
   "cell_type": "code",
   "execution_count": null,
   "id": "95545d50",
   "metadata": {},
   "outputs": [],
   "source": [
    "ks_f\n",
    "ks_r\n",
    "pd.DataFrame({'k_f':ks_f,'k_r':ks_r})"
   ]
  },
  {
   "cell_type": "code",
   "execution_count": null,
   "id": "df71368a",
   "metadata": {},
   "outputs": [],
   "source": [
    "# rate constants to report:\n",
    "S_TS_f = -(G_TS_f - H_TS_f)/T*1000\n",
    "del_S = -(del_G - del_H)/T*1000\n",
    "\n",
    "df_out = pd.DataFrame({'H_TS':H_TS_f,'del_H':del_H,\n",
    "              'S_TS':S_TS_f,'del_S':del_S,\n",
    "              'G_TS':G_TS_f,'del_G':del_G,\n",
    "              'k_f':ks_f*kappa_QM})\n",
    "#df_rounded = df_out.applymap(lambda x: round(x, 3))\n",
    "#df_rounded\n",
    "df_out"
   ]
  },
  {
   "cell_type": "code",
   "execution_count": null,
   "id": "e1dc21fc",
   "metadata": {},
   "outputs": [],
   "source": []
  }
 ],
 "metadata": {
  "kernelspec": {
   "display_name": "Python 3 (ipykernel)",
   "language": "python",
   "name": "python3"
  },
  "language_info": {
   "codemirror_mode": {
    "name": "ipython",
    "version": 3
   },
   "file_extension": ".py",
   "mimetype": "text/x-python",
   "name": "python",
   "nbconvert_exporter": "python",
   "pygments_lexer": "ipython3",
   "version": "3.11.5"
  }
 },
 "nbformat": 4,
 "nbformat_minor": 5
}
